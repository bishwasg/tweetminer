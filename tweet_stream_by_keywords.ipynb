{
 "cells": [
  {
   "cell_type": "code",
   "execution_count": null,
   "metadata": {},
   "outputs": [
    {
     "name": "stdout",
     "output_type": "stream",
     "text": [
      "[Started streaming...]\n"
     ]
    }
   ],
   "source": [
    "# This script filters and mines live tweets using keywords \n",
    "# and saves the tweets data in a .txt file\n",
    "\n",
    "from tweepy import Stream\n",
    "from tweepy import OAuthHandler\n",
    "from tweepy.streaming import StreamListener\n",
    "import json\n",
    "\n",
    "# ENTER THE KEYWORDS TO FILTER HERE\n",
    "keywords = ['python', 'blockchain']\n",
    "\n",
    "# Credentials for twitter dev account to get access to the Twitter API\n",
    "consumer_key = 'oLXVkyoWNRzBYJRqe5UPCpOgF'\n",
    "consumer_secret = 'CZ94GprpzwgPqwXdWXNgkLizQXO7Tx937B9WdEeWfQt2skeNOV'\n",
    "access_token = '255739353-KYmWOaQbX99pzbG7eJmWAMCVuqTELqkdCldv0G2Z'\n",
    "access_token_secret = '86vSDsnzH98ZVIrwu1tcNUp6RV38UPMHucefT5n78p6WU'\n",
    "\n",
    "class customListener(StreamListener): \n",
    "    \"\"\"\n",
    "    Custom listener that stores filtered tweets in a .txt file\n",
    "    \"\"\"\n",
    "    def on_data(self, data):      \n",
    "        # create a file and write data to it \n",
    "        filename = 'tweets_by_keywords'\n",
    "        temp_string = ''\n",
    "        for i in range(len(keywords)):\n",
    "            temp_string = temp_string + '_' + keywords[i]\n",
    "        filename = filename + temp_string + '.txt'    \n",
    "        f = open(filename, 'a+')\n",
    "        f.write(data)\n",
    "        \n",
    "        return True\n",
    "\n",
    "    def on_error(self, status):\n",
    "        print(status)\n",
    "        \n",
    "    \n",
    "\n",
    "if __name__ == '__main__':\n",
    "\n",
    "    # Twitter authentication and connection to Twitter Streaming API\n",
    "    listener = customListener(keywords)\n",
    "    auth = OAuthHandler(consumer_key, consumer_secret)\n",
    "    auth.set_access_token(access_token, access_token_secret)\n",
    "    stream = Stream(auth, listener)\n",
    "    \n",
    "    \n",
    "    # autostart collecting tweets if there is an interruption due to any exception    \n",
    "    def start_stream():\n",
    "        while True:\n",
    "            try:\n",
    "                print ('[Started streaming...]')\n",
    "                stream.filter(track=keywords)\n",
    "            except Exception as ex: \n",
    "                print (\"Stream stopped due to an exception! Reconnecting to Twitter stream...\")\n",
    "                print(ex.message)\n",
    "    start_stream()\n",
    "   "
   ]
  },
  {
   "cell_type": "code",
   "execution_count": null,
   "metadata": {},
   "outputs": [],
   "source": []
  }
 ],
 "metadata": {
  "kernelspec": {
   "display_name": "Python 3",
   "language": "python",
   "name": "python3"
  },
  "language_info": {
   "codemirror_mode": {
    "name": "ipython",
    "version": 3
   },
   "file_extension": ".py",
   "mimetype": "text/x-python",
   "name": "python",
   "nbconvert_exporter": "python",
   "pygments_lexer": "ipython3",
   "version": "3.7.2rc1"
  }
 },
 "nbformat": 4,
 "nbformat_minor": 2
}
